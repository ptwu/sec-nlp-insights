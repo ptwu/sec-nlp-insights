{
 "cells": [
  {
   "cell_type": "markdown",
   "metadata": {},
   "source": [
    "# Predicting Stock Price Movement Through Natural Language Processing with SEC Filings \n",
    "\n",
    "By Kevin Zhou (`klz23`), Ashley Young (`acy39`), Peter Wu (`plw53`).\n",
    "\n",
    "This is a model that can predict how a company’s stock will change 90 days after it releases its quarterly or annual reports to the SEC. There have been studies and on average, a stock will move around post announcement based on the financial statements as well as the contents of the 10-K/10-Q. Our goal is to interpret the contents of the filings and see how the stock price will move based on prior filings and prior stock price movements. "
   ]
  },
  {
   "cell_type": "markdown",
   "metadata": {},
   "source": [
    "# Dependencies\n",
    "\n",
    "Before we get started, let's import some dependencies.\n"
   ]
  },
  {
   "cell_type": "code",
   "execution_count": null,
   "metadata": {},
   "outputs": [],
   "source": [
    "import numpy as np\n",
    "import pandas as pd"
   ]
  }
 ],
 "metadata": {
  "kernelspec": {
   "display_name": "Python 3 (ipykernel)",
   "language": "python",
   "name": "python3"
  },
  "language_info": {
   "codemirror_mode": {
    "name": "ipython",
    "version": 3
   },
   "file_extension": ".py",
   "mimetype": "text/x-python",
   "name": "python",
   "nbconvert_exporter": "python",
   "pygments_lexer": "ipython3",
   "version": "3.8.10"
  }
 },
 "nbformat": 4,
 "nbformat_minor": 2
}
